{
 "cells": [
  {
   "cell_type": "code",
   "execution_count": 18,
   "metadata": {},
   "outputs": [],
   "source": [
    "import pandas as pd\n",
    "import numpy as np"
   ]
  },
  {
   "cell_type": "code",
   "execution_count": 2,
   "metadata": {},
   "outputs": [],
   "source": [
    "df=pd.read_csv('feature_selected.csv')"
   ]
  },
  {
   "cell_type": "code",
   "execution_count": 3,
   "metadata": {},
   "outputs": [
    {
     "data": {
      "text/html": [
       "<div>\n",
       "<style scoped>\n",
       "    .dataframe tbody tr th:only-of-type {\n",
       "        vertical-align: middle;\n",
       "    }\n",
       "\n",
       "    .dataframe tbody tr th {\n",
       "        vertical-align: top;\n",
       "    }\n",
       "\n",
       "    .dataframe thead th {\n",
       "        text-align: right;\n",
       "    }\n",
       "</style>\n",
       "<table border=\"1\" class=\"dataframe\">\n",
       "  <thead>\n",
       "    <tr style=\"text-align: right;\">\n",
       "      <th></th>\n",
       "      <th>radius_mean_labels</th>\n",
       "      <th>perimeter_mean_labels</th>\n",
       "      <th>area_mean_labels</th>\n",
       "      <th>compactness_mean_labels</th>\n",
       "      <th>perimeter_se_labels</th>\n",
       "      <th>compactness_se_labels</th>\n",
       "      <th>radius_worst_labels</th>\n",
       "      <th>texture_worst_labels</th>\n",
       "      <th>perimeter_worst_labels</th>\n",
       "      <th>smoothness_worst_labels</th>\n",
       "      <th>diagnosis</th>\n",
       "    </tr>\n",
       "  </thead>\n",
       "  <tbody>\n",
       "    <tr>\n",
       "      <th>0</th>\n",
       "      <td>2</td>\n",
       "      <td>2</td>\n",
       "      <td>1</td>\n",
       "      <td>3</td>\n",
       "      <td>1</td>\n",
       "      <td>1</td>\n",
       "      <td>3</td>\n",
       "      <td>0</td>\n",
       "      <td>3</td>\n",
       "      <td>3</td>\n",
       "      <td>M</td>\n",
       "    </tr>\n",
       "    <tr>\n",
       "      <th>1</th>\n",
       "      <td>3</td>\n",
       "      <td>3</td>\n",
       "      <td>2</td>\n",
       "      <td>0</td>\n",
       "      <td>0</td>\n",
       "      <td>0</td>\n",
       "      <td>3</td>\n",
       "      <td>1</td>\n",
       "      <td>2</td>\n",
       "      <td>1</td>\n",
       "      <td>M</td>\n",
       "    </tr>\n",
       "    <tr>\n",
       "      <th>2</th>\n",
       "      <td>3</td>\n",
       "      <td>2</td>\n",
       "      <td>2</td>\n",
       "      <td>2</td>\n",
       "      <td>0</td>\n",
       "      <td>1</td>\n",
       "      <td>2</td>\n",
       "      <td>1</td>\n",
       "      <td>2</td>\n",
       "      <td>2</td>\n",
       "      <td>M</td>\n",
       "    </tr>\n",
       "    <tr>\n",
       "      <th>3</th>\n",
       "      <td>1</td>\n",
       "      <td>1</td>\n",
       "      <td>0</td>\n",
       "      <td>4</td>\n",
       "      <td>0</td>\n",
       "      <td>2</td>\n",
       "      <td>1</td>\n",
       "      <td>1</td>\n",
       "      <td>1</td>\n",
       "      <td>4</td>\n",
       "      <td>M</td>\n",
       "    </tr>\n",
       "    <tr>\n",
       "      <th>4</th>\n",
       "      <td>3</td>\n",
       "      <td>3</td>\n",
       "      <td>2</td>\n",
       "      <td>1</td>\n",
       "      <td>1</td>\n",
       "      <td>0</td>\n",
       "      <td>2</td>\n",
       "      <td>0</td>\n",
       "      <td>2</td>\n",
       "      <td>2</td>\n",
       "      <td>M</td>\n",
       "    </tr>\n",
       "  </tbody>\n",
       "</table>\n",
       "</div>"
      ],
      "text/plain": [
       "   radius_mean_labels  perimeter_mean_labels  area_mean_labels  \\\n",
       "0                   2                      2                 1   \n",
       "1                   3                      3                 2   \n",
       "2                   3                      2                 2   \n",
       "3                   1                      1                 0   \n",
       "4                   3                      3                 2   \n",
       "\n",
       "   compactness_mean_labels  perimeter_se_labels  compactness_se_labels  \\\n",
       "0                        3                    1                      1   \n",
       "1                        0                    0                      0   \n",
       "2                        2                    0                      1   \n",
       "3                        4                    0                      2   \n",
       "4                        1                    1                      0   \n",
       "\n",
       "   radius_worst_labels  texture_worst_labels  perimeter_worst_labels  \\\n",
       "0                    3                     0                       3   \n",
       "1                    3                     1                       2   \n",
       "2                    2                     1                       2   \n",
       "3                    1                     1                       1   \n",
       "4                    2                     0                       2   \n",
       "\n",
       "   smoothness_worst_labels diagnosis  \n",
       "0                        3         M  \n",
       "1                        1         M  \n",
       "2                        2         M  \n",
       "3                        4         M  \n",
       "4                        2         M  "
      ]
     },
     "execution_count": 3,
     "metadata": {},
     "output_type": "execute_result"
    }
   ],
   "source": [
    "df.head()"
   ]
  },
  {
   "cell_type": "code",
   "execution_count": 4,
   "metadata": {},
   "outputs": [],
   "source": [
    "from sklearn.preprocessing import LabelEncoder\n",
    "labelencoder = LabelEncoder()\n",
    "df['diagnosis'] = labelencoder.fit_transform(df['diagnosis'])"
   ]
  },
  {
   "cell_type": "code",
   "execution_count": 9,
   "metadata": {},
   "outputs": [],
   "source": [
    "from matplotlib import pyplot as plt\n",
    "from sklearn import datasets\n",
    "from sklearn.tree import DecisionTreeClassifier \n",
    "from sklearn import tree"
   ]
  },
  {
   "cell_type": "code",
   "execution_count": 10,
   "metadata": {},
   "outputs": [],
   "source": [
    "x = df.drop('diagnosis',axis='columns')\n",
    "y = df['diagnosis']"
   ]
  },
  {
   "cell_type": "code",
   "execution_count": 11,
   "metadata": {},
   "outputs": [],
   "source": [
    "clf = DecisionTreeClassifier(max_depth=3)\n",
    "model = clf.fit(x, y)"
   ]
  },
  {
   "cell_type": "code",
   "execution_count": 12,
   "metadata": {},
   "outputs": [
    {
     "name": "stdout",
     "output_type": "stream",
     "text": [
      "Index(['radius_mean_labels', 'perimeter_mean_labels', 'area_mean_labels',\n",
      "       'compactness_mean_labels', 'perimeter_se_labels',\n",
      "       'compactness_se_labels', 'radius_worst_labels', 'texture_worst_labels',\n",
      "       'perimeter_worst_labels', 'smoothness_worst_labels', 'diagnosis'],\n",
      "      dtype='object')\n"
     ]
    }
   ],
   "source": [
    "print(df.columns)"
   ]
  },
  {
   "cell_type": "code",
   "execution_count": 13,
   "metadata": {},
   "outputs": [],
   "source": [
    "feature_names_1=['radius_mean_labels', 'perimeter_mean_labels', 'area_mean_labels',\n",
    "       'compactness_mean_labels', 'perimeter_se_labels',\n",
    "       'compactness_se_labels', 'radius_worst_labels', 'texture_worst_labels',\n",
    "       'perimeter_worst_labels', 'smoothness_worst_labels']"
   ]
  },
  {
   "cell_type": "code",
   "execution_count": 16,
   "metadata": {},
   "outputs": [],
   "source": [
    "from sklearn.tree import _tree\n",
    "def get_rules(tree, feature_names, class_names):\n",
    "    tree_ = tree.tree_\n",
    "    feature_name = [\n",
    "        feature_names[i] if i != _tree.TREE_UNDEFINED else \"undefined!\"\n",
    "        for i in tree_.feature\n",
    "    ]\n",
    "\n",
    "    paths = []\n",
    "    path = []\n",
    "    \n",
    "    def recurse(node, path, paths):\n",
    "        \n",
    "        if tree_.feature[node] != _tree.TREE_UNDEFINED:\n",
    "            name = feature_name[node]\n",
    "            threshold = tree_.threshold[node]\n",
    "            p1, p2 = list(path), list(path)\n",
    "            p1 += [f\"({name} <= {np.round(threshold, 3)})\"]\n",
    "            recurse(tree_.children_left[node], p1, paths)\n",
    "            p2 += [f\"({name} > {np.round(threshold, 3)})\"]\n",
    "            recurse(tree_.children_right[node], p2, paths)\n",
    "        else:\n",
    "            path += [(tree_.value[node], tree_.n_node_samples[node])]\n",
    "            paths += [path]\n",
    "            \n",
    "    recurse(0, path, paths)\n",
    "\n",
    "    # sort by samples count\n",
    "    samples_count = [p[-1][1] for p in paths]\n",
    "    ii = list(np.argsort(samples_count))\n",
    "    paths = [paths[i] for i in reversed(ii)]\n",
    "    \n",
    "    rules = []\n",
    "    for path in paths:\n",
    "        rule = \"if \"\n",
    "        \n",
    "        for p in path[:-1]:\n",
    "            if rule != \"if \":\n",
    "                rule += \" and \"\n",
    "            rule += str(p)\n",
    "        rule += \" then \"\n",
    "        if class_names is None:\n",
    "            rule += \"response: \"+str(np.round(path[-1][0][0][0],3))\n",
    "        else:\n",
    "            classes = path[-1][0][0]\n",
    "            l = np.argmax(classes)\n",
    "            rule += f\"class: {class_names[l]} \"\n",
    "        rule += f\" | based on {path[-1][1]:,} samples\"\n",
    "        rules += [rule]\n",
    "        \n",
    "    return rules"
   ]
  },
  {
   "cell_type": "code",
   "execution_count": 19,
   "metadata": {},
   "outputs": [
    {
     "name": "stdout",
     "output_type": "stream",
     "text": [
      "if (perimeter_mean_labels <= 1.5) and (perimeter_worst_labels <= 0.5) and (texture_worst_labels <= 2.5) then class: 1  | based on 208 samples\n",
      "if (perimeter_mean_labels > 1.5) and (radius_worst_labels > 1.5) and (smoothness_worst_labels > 0.5) then class: 0  | based on 134 samples\n",
      "if (perimeter_mean_labels <= 1.5) and (perimeter_worst_labels > 0.5) and (smoothness_worst_labels <= 1.5) then class: 1  | based on 114 samples\n",
      "if (perimeter_mean_labels <= 1.5) and (perimeter_worst_labels > 0.5) and (smoothness_worst_labels > 1.5) then class: 0  | based on 74 samples\n",
      "if (perimeter_mean_labels > 1.5) and (radius_worst_labels <= 1.5) and (compactness_se_labels > 0.5) then class: 0  | based on 14 samples\n",
      "if (perimeter_mean_labels <= 1.5) and (perimeter_worst_labels <= 0.5) and (texture_worst_labels > 2.5) then class: 1  | based on 13 samples\n",
      "if (perimeter_mean_labels > 1.5) and (radius_worst_labels <= 1.5) and (compactness_se_labels <= 0.5) then class: 1  | based on 9 samples\n",
      "if (perimeter_mean_labels > 1.5) and (radius_worst_labels > 1.5) and (smoothness_worst_labels <= 0.5) then class: 0  | based on 3 samples\n"
     ]
    }
   ],
   "source": [
    "rules = get_rules(clf,feature_names_1, '10')\n",
    "for r in rules:\n",
    "    print(r)"
   ]
  },
  {
   "cell_type": "code",
   "execution_count": 22,
   "metadata": {},
   "outputs": [],
   "source": [
    "l=['perimeter_mean_labels','perimeter_worst_labels','texture_worst_labels','radius_worst_labels','smoothness_worst_labels','compactness_se_labels','diagnosis']"
   ]
  },
  {
   "cell_type": "code",
   "execution_count": 23,
   "metadata": {},
   "outputs": [],
   "source": [
    "new_f = df[l]"
   ]
  },
  {
   "cell_type": "code",
   "execution_count": 24,
   "metadata": {},
   "outputs": [],
   "source": [
    "new_f.to_csv(\"rules.csv\", index=False)"
   ]
  },
  {
   "cell_type": "code",
   "execution_count": null,
   "metadata": {},
   "outputs": [],
   "source": []
  }
 ],
 "metadata": {
  "kernelspec": {
   "display_name": "Python 3",
   "language": "python",
   "name": "python3"
  },
  "language_info": {
   "codemirror_mode": {
    "name": "ipython",
    "version": 3
   },
   "file_extension": ".py",
   "mimetype": "text/x-python",
   "name": "python",
   "nbconvert_exporter": "python",
   "pygments_lexer": "ipython3",
   "version": "3.8.5"
  }
 },
 "nbformat": 4,
 "nbformat_minor": 4
}
